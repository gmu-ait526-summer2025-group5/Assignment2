{
 "cells": [
  {
   "cell_type": "code",
   "execution_count": 8,
   "id": "fbe76356-0631-4983-b372-791a3e30774c",
   "metadata": {},
   "outputs": [],
   "source": [
    "import wikipedia\n",
    "import wikipedia.exceptions as wiki_exceptions\n",
    "import re\n",
    "import spacy\n",
    "from nltk.tokenize import sent_tokenize\n",
    "import sys"
   ]
  },
  {
   "cell_type": "code",
   "execution_count": 9,
   "id": "8ac91cd0-c3d2-4f06-8854-16b9bd3dd1cc",
   "metadata": {},
   "outputs": [],
   "source": [
    "nlp=spacy.load(\"en_core_web_sm\")"
   ]
  },
  {
   "cell_type": "code",
   "execution_count": 24,
   "id": "56da2ec3-78b3-48b2-a45f-f0e627b7f097",
   "metadata": {},
   "outputs": [
    {
     "name": "stdout",
     "output_type": "stream",
     "text": [
      "***this is qa system by team 5\n"
     ]
    },
    {
     "name": "stdin",
     "output_type": "stream",
     "text": [
      "*?> who is ronald regan\n"
     ]
    },
    {
     "name": "stdout",
     "output_type": "stream",
     "text": [
      "An error occurred: name 'self' is not defined\n"
     ]
    },
    {
     "name": "stdin",
     "output_type": "stream",
     "text": [
      "*?> quit\n"
     ]
    },
    {
     "name": "stdout",
     "output_type": "stream",
     "text": [
      "An error occurred: name 'self' is not defined\n"
     ]
    },
    {
     "ename": "KeyboardInterrupt",
     "evalue": "Interrupted by user",
     "output_type": "error",
     "traceback": [
      "\u001b[1;31m---------------------------------------------------------------------------\u001b[0m",
      "\u001b[1;31mKeyboardInterrupt\u001b[0m                         Traceback (most recent call last)",
      "Cell \u001b[1;32mIn[24], line 1\u001b[0m\n\u001b[1;32m----> 1\u001b[0m \u001b[38;5;28;01mclass\u001b[39;00m\u001b[38;5;250m \u001b[39m\u001b[38;5;21;01mQASystem\u001b[39;00m:\n\u001b[0;32m      2\u001b[0m     \u001b[38;5;28;01mdef\u001b[39;00m\u001b[38;5;250m \u001b[39m\u001b[38;5;21m__init__\u001b[39m(\u001b[38;5;28mself\u001b[39m, logfile): \n\u001b[0;32m      3\u001b[0m         \u001b[38;5;28mself\u001b[39m\u001b[38;5;241m.\u001b[39mlogfile \u001b[38;5;241m=\u001b[39m logfile\n",
      "Cell \u001b[1;32mIn[24], line 9\u001b[0m, in \u001b[0;36mQASystem\u001b[1;34m()\u001b[0m\n\u001b[0;32m      7\u001b[0m \u001b[38;5;28;01mwhile\u001b[39;00m \u001b[38;5;28;01mTrue\u001b[39;00m:\n\u001b[0;32m      8\u001b[0m     \u001b[38;5;28;01mtry\u001b[39;00m:\n\u001b[1;32m----> 9\u001b[0m         question \u001b[38;5;241m=\u001b[39m \u001b[38;5;28;43minput\u001b[39;49m\u001b[43m \u001b[49m\u001b[43m(\u001b[49m\u001b[38;5;124;43m\"\u001b[39;49m\u001b[38;5;124;43m*?>\u001b[39;49m\u001b[38;5;124;43m\"\u001b[39;49m\u001b[43m)\u001b[49m\u001b[38;5;241m.\u001b[39mstrip()\n\u001b[0;32m     10\u001b[0m         \u001b[38;5;28;01mif\u001b[39;00m question\u001b[38;5;241m.\u001b[39mlower() \u001b[38;5;241m==\u001b[39m \u001b[38;5;124m\"\u001b[39m\u001b[38;5;124mexit\u001b[39m\u001b[38;5;124m\"\u001b[39m:\n\u001b[0;32m     11\u001b[0m             \u001b[38;5;28mprint\u001b[39m(\u001b[38;5;124m\"\u001b[39m\u001b[38;5;124mThank you, goodbye\u001b[39m\u001b[38;5;124m\"\u001b[39m)\n",
      "File \u001b[1;32m~\\anaconda3\\envs\\spacenv\\lib\\site-packages\\ipykernel\\kernelbase.py:1282\u001b[0m, in \u001b[0;36mKernel.raw_input\u001b[1;34m(self, prompt)\u001b[0m\n\u001b[0;32m   1280\u001b[0m     msg \u001b[38;5;241m=\u001b[39m \u001b[38;5;124m\"\u001b[39m\u001b[38;5;124mraw_input was called, but this frontend does not support input requests.\u001b[39m\u001b[38;5;124m\"\u001b[39m\n\u001b[0;32m   1281\u001b[0m     \u001b[38;5;28;01mraise\u001b[39;00m StdinNotImplementedError(msg)\n\u001b[1;32m-> 1282\u001b[0m \u001b[38;5;28;01mreturn\u001b[39;00m \u001b[38;5;28;43mself\u001b[39;49m\u001b[38;5;241;43m.\u001b[39;49m\u001b[43m_input_request\u001b[49m\u001b[43m(\u001b[49m\n\u001b[0;32m   1283\u001b[0m \u001b[43m    \u001b[49m\u001b[38;5;28;43mstr\u001b[39;49m\u001b[43m(\u001b[49m\u001b[43mprompt\u001b[49m\u001b[43m)\u001b[49m\u001b[43m,\u001b[49m\n\u001b[0;32m   1284\u001b[0m \u001b[43m    \u001b[49m\u001b[38;5;28;43mself\u001b[39;49m\u001b[38;5;241;43m.\u001b[39;49m\u001b[43m_parent_ident\u001b[49m\u001b[43m[\u001b[49m\u001b[38;5;124;43m\"\u001b[39;49m\u001b[38;5;124;43mshell\u001b[39;49m\u001b[38;5;124;43m\"\u001b[39;49m\u001b[43m]\u001b[49m\u001b[43m,\u001b[49m\n\u001b[0;32m   1285\u001b[0m \u001b[43m    \u001b[49m\u001b[38;5;28;43mself\u001b[39;49m\u001b[38;5;241;43m.\u001b[39;49m\u001b[43mget_parent\u001b[49m\u001b[43m(\u001b[49m\u001b[38;5;124;43m\"\u001b[39;49m\u001b[38;5;124;43mshell\u001b[39;49m\u001b[38;5;124;43m\"\u001b[39;49m\u001b[43m)\u001b[49m\u001b[43m,\u001b[49m\n\u001b[0;32m   1286\u001b[0m \u001b[43m    \u001b[49m\u001b[43mpassword\u001b[49m\u001b[38;5;241;43m=\u001b[39;49m\u001b[38;5;28;43;01mFalse\u001b[39;49;00m\u001b[43m,\u001b[49m\n\u001b[0;32m   1287\u001b[0m \u001b[43m\u001b[49m\u001b[43m)\u001b[49m\n",
      "File \u001b[1;32m~\\anaconda3\\envs\\spacenv\\lib\\site-packages\\ipykernel\\kernelbase.py:1325\u001b[0m, in \u001b[0;36mKernel._input_request\u001b[1;34m(self, prompt, ident, parent, password)\u001b[0m\n\u001b[0;32m   1322\u001b[0m \u001b[38;5;28;01mexcept\u001b[39;00m \u001b[38;5;167;01mKeyboardInterrupt\u001b[39;00m:\n\u001b[0;32m   1323\u001b[0m     \u001b[38;5;66;03m# re-raise KeyboardInterrupt, to truncate traceback\u001b[39;00m\n\u001b[0;32m   1324\u001b[0m     msg \u001b[38;5;241m=\u001b[39m \u001b[38;5;124m\"\u001b[39m\u001b[38;5;124mInterrupted by user\u001b[39m\u001b[38;5;124m\"\u001b[39m\n\u001b[1;32m-> 1325\u001b[0m     \u001b[38;5;28;01mraise\u001b[39;00m \u001b[38;5;167;01mKeyboardInterrupt\u001b[39;00m(msg) \u001b[38;5;28;01mfrom\u001b[39;00m\u001b[38;5;250m \u001b[39m\u001b[38;5;28;01mNone\u001b[39;00m\n\u001b[0;32m   1326\u001b[0m \u001b[38;5;28;01mexcept\u001b[39;00m \u001b[38;5;167;01mException\u001b[39;00m:\n\u001b[0;32m   1327\u001b[0m     \u001b[38;5;28mself\u001b[39m\u001b[38;5;241m.\u001b[39mlog\u001b[38;5;241m.\u001b[39mwarning(\u001b[38;5;124m\"\u001b[39m\u001b[38;5;124mInvalid Message:\u001b[39m\u001b[38;5;124m\"\u001b[39m, exc_info\u001b[38;5;241m=\u001b[39m\u001b[38;5;28;01mTrue\u001b[39;00m)\n",
      "\u001b[1;31mKeyboardInterrupt\u001b[0m: Interrupted by user"
     ]
    }
   ],
   "source": [
    "class QASystem:\n",
    "    def __init__(self, logfile): \n",
    "        self.logfile = logfile\n",
    "    def run(self):\n",
    "        \"\"\"run qa system interactively\"\"\"\n",
    "    print(\"***this is qa system by team 5\")\n",
    "    while True:\n",
    "        try:\n",
    "            question = input (\"*?>\").strip()\n",
    "            if question.lower() == \"exit\":\n",
    "                print(\"Thank you, goodbye\")\n",
    "                break\n",
    "            self.answer_question(question)\n",
    "        except Exception as e:\n",
    "            print(f\"An error occurred: {e}\")\n",
    "            continue\n",
    "def answer_question(self, question):\n",
    "    \"\"\"determine question type\"\"\"\n",
    "    doc = nlp(question)\n",
    "\n",
    "    #id aquestion and clean it\n",
    "    question_type = self.identify_question_type(question)\n",
    "    if question_type is None:\n",
    "        print(\"i am sorry don't know answer\")\n",
    "        self.log_question(question, \"n/a\")\n",
    "        return \n",
    "\n",
    "    ##use extract_context method to refine query\n",
    "    refined_query = self.extract_context(question)\n",
    "    if not refined_query:\n",
    "        refined_query = self.extract_dynamic_entity(doc, question_type)\n",
    "    if refined_query: #look for wikipedia search query\n",
    "        print(f\"attempting ot search wikipedia for : {refined_query}\")\n",
    "        self.search_wikipedia(refined_query, question_type, question)\n",
    "    else: #if no refined query\n",
    "        print(\"Sorry\")\n",
    "def extract_context(self, question): # regex patterns to get common q's\n",
    "    \"\"\"extract relevant subject using regex\"\"\"\n",
    "    patterns = [\n",
    "        r'where (Is|Was|is|was|are|did) (.+)',\n",
    "        r'Who (Is|Was|are|) (.+)',\n",
    "        r'what (Is|Was) ( .* ) Age',\n",
    "        r'What (Is|Was) (.+)',\n",
    "        r'When (Is|Was) ( .. ) Born',\n",
    "        r'When (Is|Was) (.+) Birthday',\n",
    "        r'Where (.+)',\n",
    "        r'who (.+)',\n",
    "        r'What (.+)',\n",
    "        r'when (.+) Born',\n",
    "        r'When (.+) Birthday',\n",
    "        r'When did (.+)'\n",
    "    ]\n",
    "\n",
    "    for pattern in patterns:\n",
    "        match = re.match(patttern, question, re.IGNORECASE)\n",
    "        if match:\n",
    "            return match.group(2).strip()\n",
    "    return None\n",
    "def identify_question_type(self, question): #classify the question\n",
    "    \"\"\"id whetehr who, what when where\"\"\"\n",
    "    question_lower = question.lower()\n",
    "    if question_lower.startswith(\"who\"):\n",
    "        return \"Who\"\n",
    "    elif question_lower.startswith(\"what\"):\n",
    "        return \"What\"\n",
    "    elif question_lower.startswith(\"when\"):\n",
    "        return \"When\"\n",
    "    elif question_lower.startswith(\"where\"):\n",
    "        return \"Where\"\n",
    "    return None\n",
    "\n",
    "def extract_dynamic_entity(self, doc, question_type):\n",
    "    \"\"\"dynamically extract rlevant parts using NER\"\"\"\n",
    "    entities = [ent.text for ent in doc.ents if ent.label_ in {\"PERSON\", \"ORG\",\"GPE\", \"DATE\"}]\n",
    "    if entities:\n",
    "        return ' '.join(entities)\n",
    "    #if new doesn find enties, clean based on type\n",
    "    question - re.sub(r'[^a-zA-A0-9\\s]',  '',doc.text).strip() #remove special characters\n",
    "    return question.lower()\n",
    "\n",
    "def search_wikipedia(self, query, question_type, question):\n",
    "    \"\"\"search wikipedia and summarize contect based on query type\"\"\"\n",
    "    try:\n",
    "        search_results = wikipedia.search(query) # searching wikipedia\n",
    "        if search_results:\n",
    "            #retireve and print summary of first result\n",
    "            summary = wikipedia.summary(search_results[0], sentences = 5)\n",
    "            meaningful_summary = self.summarize_text(summary, question_type, query)#customize summary based\n",
    "            if meaningful_summary:\n",
    "                print(f\"=> {meaningful_summary}\")\n",
    "                self.log_question(question, meaningful_summary)\n",
    "            else:\n",
    "                print(\"i am sorry, don't know answer\")\n",
    "                self.log_question(question, \"N/A\")\n",
    "        else:\n",
    "            print(\"I am sorry don't know answer.\")\n",
    "            self.log_question(questino, \"n/a\")\n",
    "    except wiki_exceptions.DisambiguationError as e: #ambigious answers\n",
    "        print(\"question is amigous here are some possible answers\")\n",
    "        for option in e.options[:5]:\n",
    "            print(f\"-{option}\")\n",
    "        self.log_question(question, \"ambiguous\")\n",
    "\n",
    "    except wiki_exceptions.PageError:\n",
    "        print(\"couldn't find page on htat topic\")\n",
    "        self.log_question(question, \"no result\")\n",
    "    except wiki_exceptions.HTTPTimeoutError:\n",
    "        print(\"network error try latters\")\n",
    "        self.log_question(question,\"timeout\")\n",
    "\n",
    "    def summarize_text(self, text, question_type, query):\n",
    "        \"\"\"summarize dynamically based on query type\"\"\"\n",
    "        sentences = sent_tokenize(text)\n",
    "        \n",
    "        # Use relevant patterns to search for the correct information based on the question type\n",
    "        if question_type == \"Who\":\n",
    "            for sentence in sentences:\n",
    "                if query in sentence and (\"is\" in sentence or \"was\" in sentence):\n",
    "                    return sentence\n",
    "            return sentences[0]\n",
    "        \n",
    "        elif question_type == \"What\":\n",
    "            return sentences[0] # For \"What\", return the first sentence as a general definition\n",
    "        \n",
    "        elif question_type == \"When\":\n",
    "            for sentence in sentences:\n",
    "                if re.search(r\"\\b\\d(4)\\b|\\bJanuary|\\bMonday|\\bcentury\\b\", sentence):\n",
    "                    return sentence\n",
    "            return \"Date or time information not found.\"\n",
    "        \n",
    "        elif question_type == \"Where\":\n",
    "        # Using NER to find location-related entities\n",
    "            for sentence in sentences:\n",
    "                if \"GPE\" in [ent.label_ for ent in nlp(sentence).ents]:\n",
    "                    return sentence\n",
    "            return \"Location information mot found.\"\n",
    "        \n",
    "    def log_question(self, question, answer):\n",
    "        \"\"\"Log the question and the answer to the log file using UTF-8 encoding.\"\"\"\n",
    "        with open(self.logfile, \"a', encoding='utf-8\") as log:\n",
    "            log.write(f\"Question: {question}\\n\")\n",
    "            log.write(f\"Answer: {answer}\\m\\n\")\n",
    "\n",
    "# Main function execution with logging\n",
    "def main():\n",
    "# Prompt the user to input the Log file name\n",
    "    log_filename = input(\"Enter the name of the log file: \").strip()\n",
    "\n",
    "    try:\n",
    "        # Create an inctanre of the 0lSystem and cun it\n",
    "        qa_system= QAsystem(log_filename)\n",
    "        qa_system.run()\n",
    "    except Exception as ex:\n",
    "        print(ex)\n",
    "    finally:\n",
    "        print(\"logging complete.\")\n",
    "\n",
    "if __name__ == \"__main__\": #run main function\n",
    "    main()"
   ]
  },
  {
   "cell_type": "code",
   "execution_count": null,
   "id": "000181be-eab6-4a8a-87f9-679bd189353f",
   "metadata": {},
   "outputs": [],
   "source": [
    "\n"
   ]
  }
 ],
 "metadata": {
  "kernelspec": {
   "display_name": "Python 3 (ipykernel)",
   "language": "python",
   "name": "python3"
  },
  "language_info": {
   "codemirror_mode": {
    "name": "ipython",
    "version": 3
   },
   "file_extension": ".py",
   "mimetype": "text/x-python",
   "name": "python",
   "nbconvert_exporter": "python",
   "pygments_lexer": "ipython3",
   "version": "3.9.23"
  }
 },
 "nbformat": 4,
 "nbformat_minor": 5
}
